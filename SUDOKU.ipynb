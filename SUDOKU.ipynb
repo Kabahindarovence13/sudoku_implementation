{
 "cells": [
  {
   "cell_type": "code",
   "execution_count": 1,
   "metadata": {},
   "outputs": [],
   "source": [
    "# A Function to print the Grid\n",
    "def PrintGrid(arr):\n",
    "    for i in range(9):\n",
    "        for j in range(9):\n",
    "            print(arr[i][j], end=\" \"),\n",
    "        print (' ')"
   ]
  },
  {
   "cell_type": "code",
   "execution_count": 2,
   "metadata": {},
   "outputs": [],
   "source": [
    "#a function to find entry in the Grid that is not used. This searches the Grid to find an entry that is still unassigned.\n",
    "#l is a list variable that has been passed from the SolveSudoku function to keep track of incrementation of rows and columns\n",
    "def FindEmptyLocation(arr):\n",
    "    for i in range(len(arr)):\n",
    "        for j in range(len(arr)):\n",
    "            if arr[i][j] == 0:\n",
    "                return ( i, j) # raw, col\n",
    "    return None\n"
   ]
  },
  {
   "cell_type": "code",
   "execution_count": 3,
   "metadata": {},
   "outputs": [],
   "source": [
    "def valid(arr, num, pos):\n",
    "    \n",
    "    #check for row\n",
    "    for i in range(len(arr[0])):\n",
    "        if arr[pos[0]][i] == num and pos[1] != i:\n",
    "            return False\n",
    "    \n",
    "    #check for col\n",
    "    for i in range(len(arr[1])):\n",
    "        if arr[i][pos[1]] == num and pos[0] != i:\n",
    "            return False\n",
    "    \n",
    "    #check medium square\n",
    "    x_box = pos[1] // 3\n",
    "    y_box = pos[0] // 3\n",
    "    \n",
    "    for i in range(y_box*3, y_box*3 + 3):\n",
    "        for j in range(x_box*3, x_box*3 + 3):\n",
    "            if arr[i][j] == num and (i,j) != pos:\n",
    "                return False\n",
    "            \n",
    "    return True"
   ]
  },
  {
   "cell_type": "code",
   "execution_count": 4,
   "metadata": {},
   "outputs": [],
   "source": [
    "# Takes a partially filled-in grid and attempts to assign values to all unassigned locations in such a way to meet the \n",
    "#requirements for Sudoku solution (non-duplication across rows, columns, and boxes)\n",
    "def SolveSudoku(arr):\n",
    "     # Is there is no unassigned location?\n",
    "    find = FindEmptyLocation(arr)\n",
    "    \n",
    "    if not find:\n",
    "        return True\n",
    "    else:\n",
    "        row, col = find\n",
    "    \n",
    "    for i in range(1,10):\n",
    "        if valid(arr, i, (row, col)):\n",
    "             #make assignment tentatively\n",
    "            arr[row][col] = i\n",
    "            \n",
    "            if SolveSudoku(arr):\n",
    "                return True\n",
    "            # on fail, undo & try again\n",
    "            arr[row][col] = 0\n",
    "        # this triggers backtracking\n",
    "    return False"
   ]
  },
  {
   "cell_type": "code",
   "execution_count": 5,
   "metadata": {},
   "outputs": [],
   "source": [
    "# creates a 2D array for the grid\n",
    "grid =[[0 for x in range(9)]for y in range(9)]\n",
    "# assigning values to the grid\n",
    "grid =[[3, 0, 6, 5, 0, 8, 4, 0, 0],\n",
    "          [5, 2, 0, 0, 0, 0, 0, 0, 0],\n",
    "          [0, 8, 7, 0, 0, 0, 0, 3, 1],\n",
    "          [0, 0, 3, 0, 1, 0, 0, 8, 0],\n",
    "          [9, 0, 0, 8, 6, 3, 0, 0, 5],\n",
    "          [0, 5, 0, 0, 9, 0, 6, 0, 0],\n",
    "          [1, 3, 0, 0, 0, 0, 2, 5, 0],\n",
    "          [0, 0, 0, 0, 0, 0, 0, 7, 4],\n",
    "          [0, 0, 5, 2, 0, 6, 3, 0, 0]]"
   ]
  },
  {
   "cell_type": "code",
   "execution_count": 6,
   "metadata": {},
   "outputs": [
    {
     "name": "stdout",
     "output_type": "stream",
     "text": [
      "3 1 6 5 7 8 4 9 2  \n",
      "5 2 9 1 3 4 7 6 8  \n",
      "4 8 7 6 2 9 5 3 1  \n",
      "2 6 3 4 1 5 9 8 7  \n",
      "9 7 4 8 6 3 1 2 5  \n",
      "8 5 1 7 9 2 6 4 3  \n",
      "1 3 8 9 4 7 2 5 6  \n",
      "6 9 2 3 5 1 8 7 4  \n",
      "7 4 5 2 8 6 3 1 9  \n"
     ]
    }
   ],
   "source": [
    " # if successful, print the grid\n",
    "if(SolveSudoku(grid)):\n",
    "    PrintGrid(grid)\n",
    "else:\n",
    "    print (\"No solution exists\")"
   ]
  },
  {
   "cell_type": "code",
   "execution_count": null,
   "metadata": {},
   "outputs": [],
   "source": []
  }
 ],
 "metadata": {
  "kernelspec": {
   "display_name": "Python 3",
   "language": "python",
   "name": "python3"
  },
  "language_info": {
   "codemirror_mode": {
    "name": "ipython",
    "version": 3
   },
   "file_extension": ".py",
   "mimetype": "text/x-python",
   "name": "python",
   "nbconvert_exporter": "python",
   "pygments_lexer": "ipython3",
   "version": "3.7.4"
  }
 },
 "nbformat": 4,
 "nbformat_minor": 4
}
